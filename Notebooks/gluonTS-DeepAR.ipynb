{
 "cells": [
  {
   "cell_type": "code",
   "execution_count": 47,
   "id": "40b3709b",
   "metadata": {},
   "outputs": [],
   "source": [
    "\"\"\"Imports\"\"\"\n",
    "import matplotlib.pyplot as plt\n",
    "import numpy as np\n",
    "import pandas as pd\n",
    "import warnings\n",
    "\n",
    "# Supress warning for cleaner output.\n",
    "# Supressing:\n",
    "# \tFuture deprecation warning: pandas uses M for month frequency gluonts uses ME\n",
    "# \tOptimal library warning wants us to use ujson instead of standard json\n",
    "# \tMissing Validation function warning\n",
    "warnings.filterwarnings(\"ignore\")\n",
    "\n",
    "from gluonts.dataset.common import ListDataset\n",
    "from gluonts.dataset.field_names import FieldName\n",
    "from gluonts.dataset.pandas import PandasDataset\n",
    "from gluonts.dataset.split import split\n",
    "from gluonts.evaluation import Evaluator\n",
    "from gluonts.evaluation.backtest import make_evaluation_predictions\n",
    "from gluonts.torch import DeepAREstimator\n",
    "from pathlib import Path\n",
    "from sklearn.metrics import mean_absolute_error, mean_squared_error"
   ]
  },
  {
   "cell_type": "code",
   "execution_count": 48,
   "id": "4fcfedbe",
   "metadata": {},
   "outputs": [],
   "source": [
    "\"\"\"Custom function for calculating MAPE as found at https://vitalflux.com/mse-vs-rmse-vs-mae-vs-mape-vs-r-squared-when-to-use/\"\"\"\n",
    "def calculate_mape(y_true, y_pred):\n",
    "    y_true, y_pred = np.array(y_true), np.array(y_pred)\n",
    "    non_zero_mask = y_true != 0\n",
    "    return np.mean(np.abs((y_true[non_zero_mask] - y_pred[non_zero_mask]) / y_true[non_zero_mask])) * 100"
   ]
  },
  {
   "cell_type": "markdown",
   "id": "f7a98266",
   "metadata": {},
   "source": [
    "## Single File (Not what DeepAR is intended for)"
   ]
  },
  {
   "cell_type": "code",
   "execution_count": 49,
   "id": "04af031f",
   "metadata": {},
   "outputs": [],
   "source": [
    "\"\"\"Load data from a CSV file into a PandasDataset\"\"\"\n",
    "single_data = pd.read_csv(\"../Data/SAND706URN.csv\",\n",
    "    index_col=0,\n",
    "    parse_dates=True,\n",
    ")\n",
    "dataset = PandasDataset(single_data, target=\"SAND706URN\")"
   ]
  },
  {
   "cell_type": "code",
   "execution_count": 50,
   "id": "be2b177e",
   "metadata": {},
   "outputs": [
    {
     "name": "stderr",
     "output_type": "stream",
     "text": [
      "GPU available: False, used: False\n",
      "TPU available: False, using: 0 TPU cores\n",
      "HPU available: False, using: 0 HPUs\n",
      "\n",
      "  | Name  | Type        | Params | Mode  | In sizes                                                   | Out sizes   \n",
      "--------------------------------------------------------------------------------------------------------------------------\n",
      "0 | model | DeepARModel | 23.3 K | train | [[1, 1], [1, 1], [1, 48, 2], [1, 48], [1, 48], [1, 12, 2]] | [1, 100, 12]\n",
      "--------------------------------------------------------------------------------------------------------------------------\n",
      "23.3 K    Trainable params\n",
      "0         Non-trainable params\n",
      "23.3 K    Total params\n",
      "0.093     Total estimated model params size (MB)\n",
      "11        Modules in train mode\n",
      "0         Modules in eval mode\n"
     ]
    },
    {
     "name": "stdout",
     "output_type": "stream",
     "text": [
      "Epoch 0: |          | 50/? [00:01<00:00, 36.54it/s, v_num=9, train_loss=2.420]"
     ]
    },
    {
     "name": "stderr",
     "output_type": "stream",
     "text": [
      "Epoch 0, global step 50: 'train_loss' reached 2.41909 (best 2.41909), saving model to '/home/poppop/Classes/USD/Courses/2025 - Summer/AAI-510 Machine learning: Fundamentals and Applications/Week 7/su25-aai510-group1/Notebooks/lightning_logs/version_9/checkpoints/epoch=0-step=50.ckpt' as top 1\n"
     ]
    },
    {
     "name": "stdout",
     "output_type": "stream",
     "text": [
      "Epoch 1: |          | 50/? [00:01<00:00, 37.65it/s, v_num=9, train_loss=1.430]"
     ]
    },
    {
     "name": "stderr",
     "output_type": "stream",
     "text": [
      "Epoch 1, global step 100: 'train_loss' reached 1.42803 (best 1.42803), saving model to '/home/poppop/Classes/USD/Courses/2025 - Summer/AAI-510 Machine learning: Fundamentals and Applications/Week 7/su25-aai510-group1/Notebooks/lightning_logs/version_9/checkpoints/epoch=1-step=100.ckpt' as top 1\n"
     ]
    },
    {
     "name": "stdout",
     "output_type": "stream",
     "text": [
      "Epoch 2: |          | 50/? [00:01<00:00, 36.77it/s, v_num=9, train_loss=1.260]"
     ]
    },
    {
     "name": "stderr",
     "output_type": "stream",
     "text": [
      "Epoch 2, global step 150: 'train_loss' reached 1.25764 (best 1.25764), saving model to '/home/poppop/Classes/USD/Courses/2025 - Summer/AAI-510 Machine learning: Fundamentals and Applications/Week 7/su25-aai510-group1/Notebooks/lightning_logs/version_9/checkpoints/epoch=2-step=150.ckpt' as top 1\n"
     ]
    },
    {
     "name": "stdout",
     "output_type": "stream",
     "text": [
      "Epoch 3: |          | 50/? [00:01<00:00, 35.66it/s, v_num=9, train_loss=1.080]"
     ]
    },
    {
     "name": "stderr",
     "output_type": "stream",
     "text": [
      "Epoch 3, global step 200: 'train_loss' reached 1.08006 (best 1.08006), saving model to '/home/poppop/Classes/USD/Courses/2025 - Summer/AAI-510 Machine learning: Fundamentals and Applications/Week 7/su25-aai510-group1/Notebooks/lightning_logs/version_9/checkpoints/epoch=3-step=200.ckpt' as top 1\n"
     ]
    },
    {
     "name": "stdout",
     "output_type": "stream",
     "text": [
      "Epoch 4: |          | 50/? [00:01<00:00, 37.12it/s, v_num=9, train_loss=0.989]"
     ]
    },
    {
     "name": "stderr",
     "output_type": "stream",
     "text": [
      "Epoch 4, global step 250: 'train_loss' reached 0.98862 (best 0.98862), saving model to '/home/poppop/Classes/USD/Courses/2025 - Summer/AAI-510 Machine learning: Fundamentals and Applications/Week 7/su25-aai510-group1/Notebooks/lightning_logs/version_9/checkpoints/epoch=4-step=250.ckpt' as top 1\n",
      "`Trainer.fit` stopped: `max_epochs=5` reached.\n"
     ]
    },
    {
     "name": "stdout",
     "output_type": "stream",
     "text": [
      "Epoch 4: |          | 50/? [00:01<00:00, 36.95it/s, v_num=9, train_loss=0.989]\n"
     ]
    }
   ],
   "source": [
    "\"\"\"Split data, train and make predictions\"\"\"\n",
    "training_data, test_gen = split(dataset, offset=-12)\n",
    "test_data = test_gen.generate_instances(prediction_length=12)\n",
    "\n",
    "# Train the model and make predictions\n",
    "model = DeepAREstimator(\n",
    "    prediction_length=12, freq=\"ME\", trainer_kwargs={\"max_epochs\": 5}\n",
    ").train(training_data)\n",
    "\n",
    "forecasts = list(model.predict(test_data.input))"
   ]
  },
  {
   "cell_type": "code",
   "execution_count": 51,
   "id": "eb885922",
   "metadata": {},
   "outputs": [
    {
     "data": {
      "image/png": "[encoded data removed]",
      "text/plain": [
       "<Figure size 640x480 with 1 Axes>"
      ]
     },
     "metadata": {},
     "output_type": "display_data"
    }
   ],
   "source": [
    "\"\"\"Plot predictions\"\"\"\n",
    "plt.plot(single_data[\"2024-05\":], color=\"black\")\n",
    "for forecast in forecasts:\n",
    "  forecast.plot()\n",
    "plt.legend([\"True values\", \"Median prediction\", \"50% confidence interval\", \"90% confidence interval\"], loc=\"upper left\")\n",
    "plt.show()"
   ]
  },
  {
   "cell_type": "code",
   "execution_count": 84,
   "id": "8333eca4",
   "metadata": {},
   "outputs": [
    {
     "name": "stdout",
     "output_type": "stream",
     "text": [
      "DeepAR Method Accuracy:\n",
      "  MAE (Mean Absolute Error): 0.261\n",
      "  MSE (Mean Standard Error): 0.124\n",
      "  RMSE (Root Mean Squared Error): 0.353\n",
      "  MAPE (Mean Absolute Percentage Error): 6.302\n"
     ]
    }
   ],
   "source": [
    "\"\"\"Calculate a few error statistics for the predictions\"\"\"\n",
    "truth = single_data[\"2024-05\":].values.reshape(12,)\n",
    "median_predictions = np.median(forecasts[0].samples, axis=0)\n",
    "\n",
    "deep_ar_mae = mean_absolute_error(truth, median_predictions)\n",
    "deep_ar_mse = mean_squared_error(truth, median_predictions)\n",
    "deep_ar_rmse = np.sqrt(deep_ar_mse)\n",
    "deep_ar_mape = calculate_mape(truth, median_predictions)\n",
    "\n",
    "print(f\"DeepAR Method Accuracy:\")\n",
    "print(f\"  MAE (Mean Absolute Error): {deep_ar_mae:.3f}\")\n",
    "print(f\"  MSE (Mean Standard Error): {deep_ar_mse:.3f}\")\n",
    "print(f\"  RMSE (Root Mean Squared Error): {deep_ar_rmse:.3f}\")\n",
    "print(f\"  MAPE (Mean Absolute Percentage Error): {deep_ar_mape:.3f}\")"
   ]
  },
  {
   "cell_type": "markdown",
   "id": "c8f7cec0",
   "metadata": {},
   "source": [
    "## Multiple Timeseries"
   ]
  },
  {
   "cell_type": "code",
   "execution_count": 5,
   "id": "1c9a16b6",
   "metadata": {},
   "outputs": [
    {
     "data": {
      "text/html": [
       "<div>\n",
       "<style scoped>\n",
       "    .dataframe tbody tr th:only-of-type {\n",
       "        vertical-align: middle;\n",
       "    }\n",
       "\n",
       "    .dataframe tbody tr th {\n",
       "        vertical-align: top;\n",
       "    }\n",
       "\n",
       "    .dataframe thead th {\n",
       "        text-align: right;\n",
       "    }\n",
       "</style>\n",
       "<table border=\"1\" class=\"dataframe\">\n",
       "  <thead>\n",
       "    <tr style=\"text-align: right;\">\n",
       "      <th>observation_date</th>\n",
       "      <th>moniker</th>\n",
       "      <th>1990-01-01</th>\n",
       "      <th>1990-02-01</th>\n",
       "      <th>1990-03-01</th>\n",
       "      <th>1990-04-01</th>\n",
       "      <th>1990-05-01</th>\n",
       "      <th>1990-06-01</th>\n",
       "      <th>1990-07-01</th>\n",
       "      <th>1990-08-01</th>\n",
       "      <th>1990-09-01</th>\n",
       "      <th>...</th>\n",
       "      <th>2024-07-01</th>\n",
       "      <th>2024-08-01</th>\n",
       "      <th>2024-09-01</th>\n",
       "      <th>2024-10-01</th>\n",
       "      <th>2024-11-01</th>\n",
       "      <th>2024-12-01</th>\n",
       "      <th>2025-01-01</th>\n",
       "      <th>2025-02-01</th>\n",
       "      <th>2025-03-01</th>\n",
       "      <th>2025-04-01</th>\n",
       "    </tr>\n",
       "  </thead>\n",
       "  <tbody>\n",
       "    <tr>\n",
       "      <th>0</th>\n",
       "      <td>BAKE5</td>\n",
       "      <td>11.2</td>\n",
       "      <td>12.0</td>\n",
       "      <td>12.6</td>\n",
       "      <td>10.8</td>\n",
       "      <td>9.7</td>\n",
       "      <td>9.8</td>\n",
       "      <td>9.5</td>\n",
       "      <td>9.5</td>\n",
       "      <td>10.0</td>\n",
       "      <td>...</td>\n",
       "      <td>9.3</td>\n",
       "      <td>8.5</td>\n",
       "      <td>7.5</td>\n",
       "      <td>7.6</td>\n",
       "      <td>8.0</td>\n",
       "      <td>8.2</td>\n",
       "      <td>9.0</td>\n",
       "      <td>9.3</td>\n",
       "      <td>9.5</td>\n",
       "      <td>8.9</td>\n",
       "    </tr>\n",
       "    <tr>\n",
       "      <th>1</th>\n",
       "      <td>SANF8</td>\n",
       "      <td>3.5</td>\n",
       "      <td>3.3</td>\n",
       "      <td>3.1</td>\n",
       "      <td>3.3</td>\n",
       "      <td>3.3</td>\n",
       "      <td>3.5</td>\n",
       "      <td>4.1</td>\n",
       "      <td>3.9</td>\n",
       "      <td>3.9</td>\n",
       "      <td>...</td>\n",
       "      <td>4.6</td>\n",
       "      <td>4.7</td>\n",
       "      <td>4.2</td>\n",
       "      <td>4.3</td>\n",
       "      <td>4.3</td>\n",
       "      <td>4.0</td>\n",
       "      <td>4.4</td>\n",
       "      <td>4.2</td>\n",
       "      <td>4.1</td>\n",
       "      <td>3.9</td>\n",
       "    </tr>\n",
       "    <tr>\n",
       "      <th>2</th>\n",
       "      <td>SANT1</td>\n",
       "      <td>9.1</td>\n",
       "      <td>9.5</td>\n",
       "      <td>9.1</td>\n",
       "      <td>8.9</td>\n",
       "      <td>5.7</td>\n",
       "      <td>5.0</td>\n",
       "      <td>5.4</td>\n",
       "      <td>5.5</td>\n",
       "      <td>5.3</td>\n",
       "      <td>...</td>\n",
       "      <td>5.6</td>\n",
       "      <td>5.5</td>\n",
       "      <td>4.9</td>\n",
       "      <td>5.1</td>\n",
       "      <td>5.7</td>\n",
       "      <td>6.2</td>\n",
       "      <td>7.0</td>\n",
       "      <td>7.3</td>\n",
       "      <td>7.1</td>\n",
       "      <td>6.5</td>\n",
       "    </tr>\n",
       "    <tr>\n",
       "      <th>3</th>\n",
       "      <td>SAND7</td>\n",
       "      <td>4.0</td>\n",
       "      <td>3.8</td>\n",
       "      <td>3.7</td>\n",
       "      <td>3.9</td>\n",
       "      <td>4.1</td>\n",
       "      <td>4.5</td>\n",
       "      <td>5.1</td>\n",
       "      <td>5.0</td>\n",
       "      <td>5.4</td>\n",
       "      <td>...</td>\n",
       "      <td>4.8</td>\n",
       "      <td>4.9</td>\n",
       "      <td>4.4</td>\n",
       "      <td>4.5</td>\n",
       "      <td>4.5</td>\n",
       "      <td>4.2</td>\n",
       "      <td>4.5</td>\n",
       "      <td>4.4</td>\n",
       "      <td>4.2</td>\n",
       "      <td>4.0</td>\n",
       "    </tr>\n",
       "    <tr>\n",
       "      <th>4</th>\n",
       "      <td>LOSA1</td>\n",
       "      <td>5.2</td>\n",
       "      <td>5.0</td>\n",
       "      <td>4.8</td>\n",
       "      <td>4.9</td>\n",
       "      <td>4.9</td>\n",
       "      <td>4.9</td>\n",
       "      <td>5.5</td>\n",
       "      <td>5.6</td>\n",
       "      <td>5.8</td>\n",
       "      <td>...</td>\n",
       "      <td>6.1</td>\n",
       "      <td>6.2</td>\n",
       "      <td>5.5</td>\n",
       "      <td>5.5</td>\n",
       "      <td>5.5</td>\n",
       "      <td>5.2</td>\n",
       "      <td>5.4</td>\n",
       "      <td>5.4</td>\n",
       "      <td>5.1</td>\n",
       "      <td>4.8</td>\n",
       "    </tr>\n",
       "  </tbody>\n",
       "</table>\n",
       "<p>5 rows × 425 columns</p>\n",
       "</div>"
      ],
      "text/plain": [
       "observation_date moniker 1990-01-01 1990-02-01 1990-03-01 1990-04-01  \\\n",
       "0                  BAKE5       11.2       12.0       12.6       10.8   \n",
       "1                  SANF8        3.5        3.3        3.1        3.3   \n",
       "2                  SANT1        9.1        9.5        9.1        8.9   \n",
       "3                  SAND7        4.0        3.8        3.7        3.9   \n",
       "4                  LOSA1        5.2        5.0        4.8        4.9   \n",
       "\n",
       "observation_date 1990-05-01 1990-06-01 1990-07-01 1990-08-01 1990-09-01  ...  \\\n",
       "0                       9.7        9.8        9.5        9.5       10.0  ...   \n",
       "1                       3.3        3.5        4.1        3.9        3.9  ...   \n",
       "2                       5.7        5.0        5.4        5.5        5.3  ...   \n",
       "3                       4.1        4.5        5.1        5.0        5.4  ...   \n",
       "4                       4.9        4.9        5.5        5.6        5.8  ...   \n",
       "\n",
       "observation_date 2024-07-01 2024-08-01 2024-09-01 2024-10-01 2024-11-01  \\\n",
       "0                       9.3        8.5        7.5        7.6        8.0   \n",
       "1                       4.6        4.7        4.2        4.3        4.3   \n",
       "2                       5.6        5.5        4.9        5.1        5.7   \n",
       "3                       4.8        4.9        4.4        4.5        4.5   \n",
       "4                       6.1        6.2        5.5        5.5        5.5   \n",
       "\n",
       "observation_date 2024-12-01 2025-01-01 2025-02-01 2025-03-01 2025-04-01  \n",
       "0                       8.2        9.0        9.3        9.5        8.9  \n",
       "1                       4.0        4.4        4.2        4.1        3.9  \n",
       "2                       6.2        7.0        7.3        7.1        6.5  \n",
       "3                       4.2        4.5        4.4        4.2        4.0  \n",
       "4                       5.2        5.4        5.4        5.1        4.8  \n",
       "\n",
       "[5 rows x 425 columns]"
      ]
     },
     "execution_count": 5,
     "metadata": {},
     "output_type": "execute_result"
    }
   ],
   "source": [
    "data_path = Path(\"../Data/\")\n",
    "dfs = []\n",
    "for file_name in data_path.iterdir():\n",
    "    df = pd.read_csv(file_name, parse_dates=True)\n",
    "    df = df.T\n",
    "    df.columns = df.iloc[0]\n",
    "    df = df.drop(df.index[0])\n",
    "    df[\"moniker\"] = file_name.parts[-1].split(\".\")[0][:5]\n",
    "    df = df.reset_index(drop=True)\n",
    "    dfs.append(df)\n",
    "    \n",
    "multi_data = pd.concat(dfs, axis=0).set_index(\"moniker\").reset_index()\n",
    "multi_data.head()\n",
    "    "
   ]
  },
  {
   "cell_type": "code",
   "execution_count": 6,
   "id": "94d4fb83",
   "metadata": {},
   "outputs": [
    {
     "name": "stdout",
     "output_type": "stream",
     "text": [
      "412 training data time steps\n",
      "12 Test data time steps\n"
     ]
    }
   ],
   "source": [
    "ts_code = multi_data[\"moniker\"].astype(\"category\").cat.codes.values\n",
    "freq = \"ME\"\n",
    "start_train = pd.Timestamp(year=1990, month=1, day=1)\n",
    "start_test = pd.Timestamp(year=2024, month=5, day=1)\n",
    "\n",
    "split_point = len(multi_data.iloc[0]) - 12\n",
    "train_data = multi_data.iloc[:, 1:split_point].values\n",
    "test_data = multi_data.iloc[:, split_point:].values\n",
    "\n",
    "train_ds = ListDataset([\n",
    "    {\n",
    "        FieldName.TARGET: target,\n",
    "        FieldName.START: start_train,\n",
    "        FieldName.FEAT_STATIC_CAT: fsc\n",
    "    }\n",
    "    for (target, fsc) in zip(train_data,\n",
    "                             ts_code.reshape(-1, 1))\n",
    "], freq=freq)\n",
    "\n",
    "test_ds = ListDataset([\n",
    "    {\n",
    "        FieldName.TARGET: target,\n",
    "        FieldName.START: start_test,\n",
    "        FieldName.FEAT_STATIC_CAT: fsc\n",
    "    }\n",
    "    for (target, fsc) in zip(test_data,\n",
    "                             ts_code.reshape(-1, 1))\n",
    "], freq=freq)\n",
    "\n",
    "print(len(train_ds[0][\"target\"]), \"training data time steps\") # train = 1990-01-01 - 2024-04-01\n",
    "print(len(test_ds[0][\"target\"]), \"Test data time steps\") # test = 2024-05-01 - 2025-04-01"
   ]
  },
  {
   "cell_type": "code",
   "execution_count": 7,
   "id": "cdcb152f",
   "metadata": {},
   "outputs": [
    {
     "name": "stderr",
     "output_type": "stream",
     "text": [
      "GPU available: False, used: False\n",
      "TPU available: False, using: 0 TPU cores\n",
      "HPU available: False, using: 0 HPUs\n",
      "\n",
      "  | Name  | Type        | Params | Mode  | In sizes                                                   | Out sizes   \n",
      "--------------------------------------------------------------------------------------------------------------------------\n",
      "0 | model | DeepARModel | 653 K  | train | [[1, 1], [1, 1], [1, 41, 2], [1, 41], [1, 41], [1, 12, 2]] | [1, 100, 12]\n",
      "--------------------------------------------------------------------------------------------------------------------------\n",
      "653 K     Trainable params\n",
      "0         Non-trainable params\n",
      "653 K     Total params\n",
      "2.612     Total estimated model params size (MB)\n",
      "11        Modules in train mode\n",
      "0         Modules in eval mode\n"
     ]
    },
    {
     "name": "stdout",
     "output_type": "stream",
     "text": [
      "Epoch 0: |          | 50/? [00:08<00:00,  5.73it/s, v_num=5, train_loss=2.810]"
     ]
    },
    {
     "name": "stderr",
     "output_type": "stream",
     "text": [
      "Epoch 0, global step 50: 'train_loss' reached 2.81161 (best 2.81161), saving model to '/home/poppop/Classes/USD/Courses/2025 - Summer/AAI-510 Machine learning: Fundamentals and Applications/Week 7/su25-aai510-group1/Notebooks/lightning_logs/version_5/checkpoints/epoch=0-step=50.ckpt' as top 1\n"
     ]
    },
    {
     "name": "stdout",
     "output_type": "stream",
     "text": [
      "Epoch 1: |          | 50/? [00:08<00:00,  5.67it/s, v_num=5, train_loss=1.960]"
     ]
    },
    {
     "name": "stderr",
     "output_type": "stream",
     "text": [
      "Epoch 1, global step 100: 'train_loss' reached 1.95568 (best 1.95568), saving model to '/home/poppop/Classes/USD/Courses/2025 - Summer/AAI-510 Machine learning: Fundamentals and Applications/Week 7/su25-aai510-group1/Notebooks/lightning_logs/version_5/checkpoints/epoch=1-step=100.ckpt' as top 1\n"
     ]
    },
    {
     "name": "stdout",
     "output_type": "stream",
     "text": [
      "Epoch 2: |          | 50/? [00:06<00:00,  7.33it/s, v_num=5, train_loss=1.800]"
     ]
    },
    {
     "name": "stderr",
     "output_type": "stream",
     "text": [
      "Epoch 2, global step 150: 'train_loss' reached 1.80141 (best 1.80141), saving model to '/home/poppop/Classes/USD/Courses/2025 - Summer/AAI-510 Machine learning: Fundamentals and Applications/Week 7/su25-aai510-group1/Notebooks/lightning_logs/version_5/checkpoints/epoch=2-step=150.ckpt' as top 1\n"
     ]
    },
    {
     "name": "stdout",
     "output_type": "stream",
     "text": [
      "Epoch 3: |          | 50/? [00:06<00:00,  7.97it/s, v_num=5, train_loss=1.690]"
     ]
    },
    {
     "name": "stderr",
     "output_type": "stream",
     "text": [
      "Epoch 3, global step 200: 'train_loss' reached 1.69039 (best 1.69039), saving model to '/home/poppop/Classes/USD/Courses/2025 - Summer/AAI-510 Machine learning: Fundamentals and Applications/Week 7/su25-aai510-group1/Notebooks/lightning_logs/version_5/checkpoints/epoch=3-step=200.ckpt' as top 1\n"
     ]
    },
    {
     "name": "stdout",
     "output_type": "stream",
     "text": [
      "Epoch 4: |          | 50/? [00:07<00:00,  6.94it/s, v_num=5, train_loss=1.640]"
     ]
    },
    {
     "name": "stderr",
     "output_type": "stream",
     "text": [
      "Epoch 4, global step 250: 'train_loss' reached 1.64048 (best 1.64048), saving model to '/home/poppop/Classes/USD/Courses/2025 - Summer/AAI-510 Machine learning: Fundamentals and Applications/Week 7/su25-aai510-group1/Notebooks/lightning_logs/version_5/checkpoints/epoch=4-step=250.ckpt' as top 1\n"
     ]
    },
    {
     "name": "stdout",
     "output_type": "stream",
     "text": [
      "Epoch 5: |          | 50/? [00:06<00:00,  7.24it/s, v_num=5, train_loss=1.670]"
     ]
    },
    {
     "name": "stderr",
     "output_type": "stream",
     "text": [
      "Epoch 5, global step 300: 'train_loss' was not in top 1\n"
     ]
    },
    {
     "name": "stdout",
     "output_type": "stream",
     "text": [
      "Epoch 6: |          | 50/? [00:07<00:00,  6.59it/s, v_num=5, train_loss=1.660]"
     ]
    },
    {
     "name": "stderr",
     "output_type": "stream",
     "text": [
      "Epoch 6, global step 350: 'train_loss' was not in top 1\n"
     ]
    },
    {
     "name": "stdout",
     "output_type": "stream",
     "text": [
      "Epoch 7: |          | 50/? [00:07<00:00,  6.59it/s, v_num=5, train_loss=1.640]"
     ]
    },
    {
     "name": "stderr",
     "output_type": "stream",
     "text": [
      "Epoch 7, global step 400: 'train_loss' reached 1.63511 (best 1.63511), saving model to '/home/poppop/Classes/USD/Courses/2025 - Summer/AAI-510 Machine learning: Fundamentals and Applications/Week 7/su25-aai510-group1/Notebooks/lightning_logs/version_5/checkpoints/epoch=7-step=400.ckpt' as top 1\n"
     ]
    },
    {
     "name": "stdout",
     "output_type": "stream",
     "text": [
      "Epoch 8: |          | 50/? [00:08<00:00,  6.25it/s, v_num=5, train_loss=1.620]"
     ]
    },
    {
     "name": "stderr",
     "output_type": "stream",
     "text": [
      "Epoch 8, global step 450: 'train_loss' reached 1.61835 (best 1.61835), saving model to '/home/poppop/Classes/USD/Courses/2025 - Summer/AAI-510 Machine learning: Fundamentals and Applications/Week 7/su25-aai510-group1/Notebooks/lightning_logs/version_5/checkpoints/epoch=8-step=450.ckpt' as top 1\n"
     ]
    },
    {
     "name": "stdout",
     "output_type": "stream",
     "text": [
      "Epoch 9: |          | 50/? [00:08<00:00,  5.94it/s, v_num=5, train_loss=1.590]"
     ]
    },
    {
     "name": "stderr",
     "output_type": "stream",
     "text": [
      "Epoch 9, global step 500: 'train_loss' reached 1.58986 (best 1.58986), saving model to '/home/poppop/Classes/USD/Courses/2025 - Summer/AAI-510 Machine learning: Fundamentals and Applications/Week 7/su25-aai510-group1/Notebooks/lightning_logs/version_5/checkpoints/epoch=9-step=500.ckpt' as top 1\n",
      "`Trainer.fit` stopped: `max_epochs=10` reached.\n"
     ]
    },
    {
     "name": "stdout",
     "output_type": "stream",
     "text": [
      "Epoch 9: |          | 50/? [00:08<00:00,  5.91it/s, v_num=5, train_loss=1.590]\n"
     ]
    }
   ],
   "source": [
    "# TODO: Test with different parameters to determine optimal\n",
    "predictor = DeepAREstimator(freq=freq,\n",
    "                            context_length=5,\n",
    "                            prediction_length=12,\n",
    "                            cardinality=[1],\n",
    "                            num_layers=50,\n",
    "                            dropout_rate=0.05,\n",
    "                            trainer_kwargs={\"max_epochs\": 10}\n",
    "                            ).train(training_data=train_ds, num_workers=4)"
   ]
  },
  {
   "cell_type": "code",
   "execution_count": null,
   "id": "c3230482",
   "metadata": {},
   "outputs": [
    {
     "data": {
      "image/png": "[encoded data removed]",
      "text/plain": [
       "<Figure size 640x480 with 1 Axes>"
      ]
     },
     "metadata": {},
     "output_type": "display_data"
    }
   ],
   "source": [
    "def plot_prob_forecasts(truth, forecast):\n",
    "    prediction_intervals = (0.5, 0.8)\n",
    "    legend = [\"observations\", \"median prediction\"] + [f\"{k*100}% prediction interval\" for k in prediction_intervals][::-1]\n",
    "\n",
    "    _, ax = plt.subplots(1, 1)\n",
    "    truth.plot(ax=ax, color=\"blue\", label=\"observations\")\n",
    "\n",
    "    # Extract the median prediction\n",
    "    median = np.median(forecast, axis=0)\n",
    "    ax.plot(truth.index, median, color=\"orange\", label=\"median prediction\")\n",
    "\n",
    "    # Extract the prediction intervals if available\n",
    "    if len(forecast) > 1:\n",
    "        lower, upper = np.percentile(forecast, q=[(1 - k) * 100 / 2 for k in prediction_intervals], axis=0), np.percentile(\n",
    "             forecast, q=[(1 + k) * 100 / 2 for k in prediction_intervals], axis=0)\n",
    "\n",
    "    plt.grid(which=\"both\")\n",
    "    plt.legend(legend, loc=\"upper left\")\n",
    "    plt.show()\n",
    "\n",
    "forecast_generator, truth_generator = make_evaluation_predictions(\n",
    "    dataset=test_ds,\n",
    "    predictor=predictor,\n",
    "    num_samples=100,\n",
    ")\n",
    "truths = [truth for truth in truth_generator]\n",
    "forecasts = [forecast for forecast in forecast_generator]\n",
    "\n",
    "# Trying just one to start, can expand once the first makes sense\n",
    "for i in range(1):\n",
    "    truth = truths[i]\n",
    "    forecast = np.array(forecasts[i].samples)\n",
    "    plot_prob_forecasts(truth, forecast)"
   ]
  },
  {
   "cell_type": "code",
   "execution_count": 9,
   "id": "1f81571f",
   "metadata": {},
   "outputs": [
    {
     "name": "stderr",
     "output_type": "stream",
     "text": [
      "Running evaluation: 100%|██████████| 15/15 [00:00<00:00, 234.12it/s]\n"
     ]
    },
    {
     "data": {
      "text/html": [
       "<div>\n",
       "<style scoped>\n",
       "    .dataframe tbody tr th:only-of-type {\n",
       "        vertical-align: middle;\n",
       "    }\n",
       "\n",
       "    .dataframe tbody tr th {\n",
       "        vertical-align: top;\n",
       "    }\n",
       "\n",
       "    .dataframe thead th {\n",
       "        text-align: right;\n",
       "    }\n",
       "</style>\n",
       "<table border=\"1\" class=\"dataframe\">\n",
       "  <thead>\n",
       "    <tr style=\"text-align: right;\">\n",
       "      <th></th>\n",
       "      <th>item_id</th>\n",
       "      <th>forecast_start</th>\n",
       "      <th>MSE</th>\n",
       "      <th>abs_error</th>\n",
       "      <th>abs_target_sum</th>\n",
       "      <th>abs_target_mean</th>\n",
       "      <th>seasonal_error</th>\n",
       "      <th>MASE</th>\n",
       "      <th>MAPE</th>\n",
       "      <th>sMAPE</th>\n",
       "      <th>num_masked_target_values</th>\n",
       "      <th>ND</th>\n",
       "      <th>MSIS</th>\n",
       "      <th>QuantileLoss[0.1]</th>\n",
       "      <th>Coverage[0.1]</th>\n",
       "      <th>QuantileLoss[0.5]</th>\n",
       "      <th>Coverage[0.5]</th>\n",
       "      <th>QuantileLoss[0.9]</th>\n",
       "      <th>Coverage[0.9]</th>\n",
       "    </tr>\n",
       "  </thead>\n",
       "  <tbody>\n",
       "    <tr>\n",
       "      <th>0</th>\n",
       "      <td>None</td>\n",
       "      <td>2024-05</td>\n",
       "      <td>74.375000</td>\n",
       "      <td>103.200005</td>\n",
       "      <td>103.200005</td>\n",
       "      <td>8.600000</td>\n",
       "      <td>NaN</td>\n",
       "      <td>NaN</td>\n",
       "      <td>1.0</td>\n",
       "      <td>2.0</td>\n",
       "      <td>0.0</td>\n",
       "      <td>1.0</td>\n",
       "      <td>NaN</td>\n",
       "      <td>20.64</td>\n",
       "      <td>0.0</td>\n",
       "      <td>103.199999</td>\n",
       "      <td>0.0</td>\n",
       "      <td>185.759999</td>\n",
       "      <td>0.0</td>\n",
       "    </tr>\n",
       "    <tr>\n",
       "      <th>1</th>\n",
       "      <td>None</td>\n",
       "      <td>2024-05</td>\n",
       "      <td>17.861666</td>\n",
       "      <td>50.600002</td>\n",
       "      <td>50.600002</td>\n",
       "      <td>4.216667</td>\n",
       "      <td>NaN</td>\n",
       "      <td>NaN</td>\n",
       "      <td>1.0</td>\n",
       "      <td>2.0</td>\n",
       "      <td>0.0</td>\n",
       "      <td>1.0</td>\n",
       "      <td>NaN</td>\n",
       "      <td>10.12</td>\n",
       "      <td>0.0</td>\n",
       "      <td>50.600000</td>\n",
       "      <td>0.0</td>\n",
       "      <td>91.080000</td>\n",
       "      <td>0.0</td>\n",
       "    </tr>\n",
       "    <tr>\n",
       "      <th>2</th>\n",
       "      <td>None</td>\n",
       "      <td>2024-05</td>\n",
       "      <td>36.147499</td>\n",
       "      <td>71.500000</td>\n",
       "      <td>71.500000</td>\n",
       "      <td>5.958333</td>\n",
       "      <td>NaN</td>\n",
       "      <td>NaN</td>\n",
       "      <td>1.0</td>\n",
       "      <td>2.0</td>\n",
       "      <td>0.0</td>\n",
       "      <td>1.0</td>\n",
       "      <td>NaN</td>\n",
       "      <td>14.30</td>\n",
       "      <td>0.0</td>\n",
       "      <td>71.500000</td>\n",
       "      <td>0.0</td>\n",
       "      <td>128.699999</td>\n",
       "      <td>0.0</td>\n",
       "    </tr>\n",
       "    <tr>\n",
       "      <th>3</th>\n",
       "      <td>None</td>\n",
       "      <td>2024-05</td>\n",
       "      <td>19.176666</td>\n",
       "      <td>52.400002</td>\n",
       "      <td>52.400002</td>\n",
       "      <td>4.366667</td>\n",
       "      <td>NaN</td>\n",
       "      <td>NaN</td>\n",
       "      <td>1.0</td>\n",
       "      <td>2.0</td>\n",
       "      <td>0.0</td>\n",
       "      <td>1.0</td>\n",
       "      <td>NaN</td>\n",
       "      <td>10.48</td>\n",
       "      <td>0.0</td>\n",
       "      <td>52.400000</td>\n",
       "      <td>0.0</td>\n",
       "      <td>94.320000</td>\n",
       "      <td>0.0</td>\n",
       "    </tr>\n",
       "    <tr>\n",
       "      <th>4</th>\n",
       "      <td>None</td>\n",
       "      <td>2024-05</td>\n",
       "      <td>29.681666</td>\n",
       "      <td>65.200005</td>\n",
       "      <td>65.200005</td>\n",
       "      <td>5.433334</td>\n",
       "      <td>NaN</td>\n",
       "      <td>NaN</td>\n",
       "      <td>1.0</td>\n",
       "      <td>2.0</td>\n",
       "      <td>0.0</td>\n",
       "      <td>1.0</td>\n",
       "      <td>NaN</td>\n",
       "      <td>13.04</td>\n",
       "      <td>0.0</td>\n",
       "      <td>65.200000</td>\n",
       "      <td>0.0</td>\n",
       "      <td>117.360000</td>\n",
       "      <td>0.0</td>\n",
       "    </tr>\n",
       "    <tr>\n",
       "      <th>5</th>\n",
       "      <td>None</td>\n",
       "      <td>2024-05</td>\n",
       "      <td>22.272499</td>\n",
       "      <td>56.500004</td>\n",
       "      <td>56.500004</td>\n",
       "      <td>4.708334</td>\n",
       "      <td>NaN</td>\n",
       "      <td>NaN</td>\n",
       "      <td>1.0</td>\n",
       "      <td>2.0</td>\n",
       "      <td>0.0</td>\n",
       "      <td>1.0</td>\n",
       "      <td>NaN</td>\n",
       "      <td>11.30</td>\n",
       "      <td>0.0</td>\n",
       "      <td>56.500000</td>\n",
       "      <td>0.0</td>\n",
       "      <td>101.700000</td>\n",
       "      <td>0.0</td>\n",
       "    </tr>\n",
       "    <tr>\n",
       "      <th>6</th>\n",
       "      <td>None</td>\n",
       "      <td>2024-05</td>\n",
       "      <td>17.078334</td>\n",
       "      <td>49.399998</td>\n",
       "      <td>49.399998</td>\n",
       "      <td>4.116666</td>\n",
       "      <td>NaN</td>\n",
       "      <td>NaN</td>\n",
       "      <td>1.0</td>\n",
       "      <td>2.0</td>\n",
       "      <td>0.0</td>\n",
       "      <td>1.0</td>\n",
       "      <td>NaN</td>\n",
       "      <td>9.88</td>\n",
       "      <td>0.0</td>\n",
       "      <td>49.399999</td>\n",
       "      <td>0.0</td>\n",
       "      <td>88.919998</td>\n",
       "      <td>0.0</td>\n",
       "    </tr>\n",
       "    <tr>\n",
       "      <th>7</th>\n",
       "      <td>None</td>\n",
       "      <td>2024-05</td>\n",
       "      <td>63.259165</td>\n",
       "      <td>95.100006</td>\n",
       "      <td>95.100006</td>\n",
       "      <td>7.925001</td>\n",
       "      <td>NaN</td>\n",
       "      <td>NaN</td>\n",
       "      <td>1.0</td>\n",
       "      <td>2.0</td>\n",
       "      <td>0.0</td>\n",
       "      <td>1.0</td>\n",
       "      <td>NaN</td>\n",
       "      <td>19.02</td>\n",
       "      <td>0.0</td>\n",
       "      <td>95.100001</td>\n",
       "      <td>0.0</td>\n",
       "      <td>171.180002</td>\n",
       "      <td>0.0</td>\n",
       "    </tr>\n",
       "    <tr>\n",
       "      <th>8</th>\n",
       "      <td>None</td>\n",
       "      <td>2024-05</td>\n",
       "      <td>47.561666</td>\n",
       "      <td>82.600006</td>\n",
       "      <td>82.600006</td>\n",
       "      <td>6.883334</td>\n",
       "      <td>NaN</td>\n",
       "      <td>NaN</td>\n",
       "      <td>1.0</td>\n",
       "      <td>2.0</td>\n",
       "      <td>0.0</td>\n",
       "      <td>1.0</td>\n",
       "      <td>NaN</td>\n",
       "      <td>16.52</td>\n",
       "      <td>0.0</td>\n",
       "      <td>82.600000</td>\n",
       "      <td>0.0</td>\n",
       "      <td>148.680000</td>\n",
       "      <td>0.0</td>\n",
       "    </tr>\n",
       "    <tr>\n",
       "      <th>9</th>\n",
       "      <td>None</td>\n",
       "      <td>2024-05</td>\n",
       "      <td>17.435000</td>\n",
       "      <td>50.000000</td>\n",
       "      <td>50.000000</td>\n",
       "      <td>4.166667</td>\n",
       "      <td>NaN</td>\n",
       "      <td>NaN</td>\n",
       "      <td>1.0</td>\n",
       "      <td>2.0</td>\n",
       "      <td>0.0</td>\n",
       "      <td>1.0</td>\n",
       "      <td>NaN</td>\n",
       "      <td>10.00</td>\n",
       "      <td>0.0</td>\n",
       "      <td>50.000000</td>\n",
       "      <td>0.0</td>\n",
       "      <td>89.999999</td>\n",
       "      <td>0.0</td>\n",
       "    </tr>\n",
       "    <tr>\n",
       "      <th>10</th>\n",
       "      <td>None</td>\n",
       "      <td>2024-05</td>\n",
       "      <td>17.868333</td>\n",
       "      <td>50.599998</td>\n",
       "      <td>50.599998</td>\n",
       "      <td>4.216667</td>\n",
       "      <td>NaN</td>\n",
       "      <td>NaN</td>\n",
       "      <td>1.0</td>\n",
       "      <td>2.0</td>\n",
       "      <td>0.0</td>\n",
       "      <td>1.0</td>\n",
       "      <td>NaN</td>\n",
       "      <td>10.12</td>\n",
       "      <td>0.0</td>\n",
       "      <td>50.599999</td>\n",
       "      <td>0.0</td>\n",
       "      <td>91.079999</td>\n",
       "      <td>0.0</td>\n",
       "    </tr>\n",
       "    <tr>\n",
       "      <th>11</th>\n",
       "      <td>None</td>\n",
       "      <td>2024-05</td>\n",
       "      <td>96.638336</td>\n",
       "      <td>117.200012</td>\n",
       "      <td>117.200012</td>\n",
       "      <td>9.766668</td>\n",
       "      <td>NaN</td>\n",
       "      <td>NaN</td>\n",
       "      <td>1.0</td>\n",
       "      <td>2.0</td>\n",
       "      <td>0.0</td>\n",
       "      <td>1.0</td>\n",
       "      <td>NaN</td>\n",
       "      <td>23.44</td>\n",
       "      <td>0.0</td>\n",
       "      <td>117.200000</td>\n",
       "      <td>0.0</td>\n",
       "      <td>210.960000</td>\n",
       "      <td>0.0</td>\n",
       "    </tr>\n",
       "    <tr>\n",
       "      <th>12</th>\n",
       "      <td>None</td>\n",
       "      <td>2024-05</td>\n",
       "      <td>27.723335</td>\n",
       "      <td>63.000000</td>\n",
       "      <td>63.000000</td>\n",
       "      <td>5.250000</td>\n",
       "      <td>NaN</td>\n",
       "      <td>NaN</td>\n",
       "      <td>1.0</td>\n",
       "      <td>2.0</td>\n",
       "      <td>0.0</td>\n",
       "      <td>1.0</td>\n",
       "      <td>NaN</td>\n",
       "      <td>12.60</td>\n",
       "      <td>0.0</td>\n",
       "      <td>63.000001</td>\n",
       "      <td>0.0</td>\n",
       "      <td>113.400002</td>\n",
       "      <td>0.0</td>\n",
       "    </tr>\n",
       "    <tr>\n",
       "      <th>13</th>\n",
       "      <td>None</td>\n",
       "      <td>2024-05</td>\n",
       "      <td>25.507502</td>\n",
       "      <td>60.500000</td>\n",
       "      <td>60.500000</td>\n",
       "      <td>5.041667</td>\n",
       "      <td>NaN</td>\n",
       "      <td>NaN</td>\n",
       "      <td>1.0</td>\n",
       "      <td>2.0</td>\n",
       "      <td>0.0</td>\n",
       "      <td>1.0</td>\n",
       "      <td>NaN</td>\n",
       "      <td>12.10</td>\n",
       "      <td>0.0</td>\n",
       "      <td>60.500000</td>\n",
       "      <td>0.0</td>\n",
       "      <td>108.900001</td>\n",
       "      <td>0.0</td>\n",
       "    </tr>\n",
       "    <tr>\n",
       "      <th>14</th>\n",
       "      <td>None</td>\n",
       "      <td>2024-05</td>\n",
       "      <td>107.090830</td>\n",
       "      <td>123.900009</td>\n",
       "      <td>123.900009</td>\n",
       "      <td>10.325001</td>\n",
       "      <td>NaN</td>\n",
       "      <td>NaN</td>\n",
       "      <td>1.0</td>\n",
       "      <td>2.0</td>\n",
       "      <td>0.0</td>\n",
       "      <td>1.0</td>\n",
       "      <td>NaN</td>\n",
       "      <td>24.78</td>\n",
       "      <td>0.0</td>\n",
       "      <td>123.900000</td>\n",
       "      <td>0.0</td>\n",
       "      <td>223.019999</td>\n",
       "      <td>0.0</td>\n",
       "    </tr>\n",
       "  </tbody>\n",
       "</table>\n",
       "</div>"
      ],
      "text/plain": [
       "   item_id forecast_start         MSE   abs_error  abs_target_sum  \\\n",
       "0     None        2024-05   74.375000  103.200005      103.200005   \n",
       "1     None        2024-05   17.861666   50.600002       50.600002   \n",
       "2     None        2024-05   36.147499   71.500000       71.500000   \n",
       "3     None        2024-05   19.176666   52.400002       52.400002   \n",
       "4     None        2024-05   29.681666   65.200005       65.200005   \n",
       "5     None        2024-05   22.272499   56.500004       56.500004   \n",
       "6     None        2024-05   17.078334   49.399998       49.399998   \n",
       "7     None        2024-05   63.259165   95.100006       95.100006   \n",
       "8     None        2024-05   47.561666   82.600006       82.600006   \n",
       "9     None        2024-05   17.435000   50.000000       50.000000   \n",
       "10    None        2024-05   17.868333   50.599998       50.599998   \n",
       "11    None        2024-05   96.638336  117.200012      117.200012   \n",
       "12    None        2024-05   27.723335   63.000000       63.000000   \n",
       "13    None        2024-05   25.507502   60.500000       60.500000   \n",
       "14    None        2024-05  107.090830  123.900009      123.900009   \n",
       "\n",
       "    abs_target_mean  seasonal_error  MASE  MAPE  sMAPE  \\\n",
       "0          8.600000             NaN   NaN   1.0    2.0   \n",
       "1          4.216667             NaN   NaN   1.0    2.0   \n",
       "2          5.958333             NaN   NaN   1.0    2.0   \n",
       "3          4.366667             NaN   NaN   1.0    2.0   \n",
       "4          5.433334             NaN   NaN   1.0    2.0   \n",
       "5          4.708334             NaN   NaN   1.0    2.0   \n",
       "6          4.116666             NaN   NaN   1.0    2.0   \n",
       "7          7.925001             NaN   NaN   1.0    2.0   \n",
       "8          6.883334             NaN   NaN   1.0    2.0   \n",
       "9          4.166667             NaN   NaN   1.0    2.0   \n",
       "10         4.216667             NaN   NaN   1.0    2.0   \n",
       "11         9.766668             NaN   NaN   1.0    2.0   \n",
       "12         5.250000             NaN   NaN   1.0    2.0   \n",
       "13         5.041667             NaN   NaN   1.0    2.0   \n",
       "14        10.325001             NaN   NaN   1.0    2.0   \n",
       "\n",
       "    num_masked_target_values   ND  MSIS  QuantileLoss[0.1]  Coverage[0.1]  \\\n",
       "0                        0.0  1.0   NaN              20.64            0.0   \n",
       "1                        0.0  1.0   NaN              10.12            0.0   \n",
       "2                        0.0  1.0   NaN              14.30            0.0   \n",
       "3                        0.0  1.0   NaN              10.48            0.0   \n",
       "4                        0.0  1.0   NaN              13.04            0.0   \n",
       "5                        0.0  1.0   NaN              11.30            0.0   \n",
       "6                        0.0  1.0   NaN               9.88            0.0   \n",
       "7                        0.0  1.0   NaN              19.02            0.0   \n",
       "8                        0.0  1.0   NaN              16.52            0.0   \n",
       "9                        0.0  1.0   NaN              10.00            0.0   \n",
       "10                       0.0  1.0   NaN              10.12            0.0   \n",
       "11                       0.0  1.0   NaN              23.44            0.0   \n",
       "12                       0.0  1.0   NaN              12.60            0.0   \n",
       "13                       0.0  1.0   NaN              12.10            0.0   \n",
       "14                       0.0  1.0   NaN              24.78            0.0   \n",
       "\n",
       "    QuantileLoss[0.5]  Coverage[0.5]  QuantileLoss[0.9]  Coverage[0.9]  \n",
       "0          103.199999            0.0         185.759999            0.0  \n",
       "1           50.600000            0.0          91.080000            0.0  \n",
       "2           71.500000            0.0         128.699999            0.0  \n",
       "3           52.400000            0.0          94.320000            0.0  \n",
       "4           65.200000            0.0         117.360000            0.0  \n",
       "5           56.500000            0.0         101.700000            0.0  \n",
       "6           49.399999            0.0          88.919998            0.0  \n",
       "7           95.100001            0.0         171.180002            0.0  \n",
       "8           82.600000            0.0         148.680000            0.0  \n",
       "9           50.000000            0.0          89.999999            0.0  \n",
       "10          50.599999            0.0          91.079999            0.0  \n",
       "11         117.200000            0.0         210.960000            0.0  \n",
       "12          63.000001            0.0         113.400002            0.0  \n",
       "13          60.500000            0.0         108.900001            0.0  \n",
       "14         123.900000            0.0         223.019999            0.0  "
      ]
     },
     "execution_count": 9,
     "metadata": {},
     "output_type": "execute_result"
    }
   ],
   "source": [
    "evaluator = Evaluator(quantiles=[0.1, 0.5, 0.9])\n",
    "agg_metrics, item_metrics = evaluator(iter(truths), iter(forecasts), num_series=len(test_data))\n",
    "item_metrics"
   ]
  }
 ],
 "metadata": {
  "kernelspec": {
   "display_name": "Python 3",
   "language": "python",
   "name": "python3"
  },
  "language_info": {
   "codemirror_mode": {
    "name": "ipython",
    "version": 3
   },
   "file_extension": ".py",
   "mimetype": "text/x-python",
   "name": "python",
   "nbconvert_exporter": "python",
   "pygments_lexer": "ipython3",
   "version": "3.10.12"
  }
 },
 "nbformat": 4,
 "nbformat_minor": 5
}
