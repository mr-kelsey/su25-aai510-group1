{
 "cells": [
  {
   "cell_type": "code",
   "execution_count": null,
   "id": "bacc9871",
   "metadata": {},
   "outputs": [],
   "source": [
    "\"\"\"Import required libraries\"\"\"\n",
    "import pandas as pd\n",
    "import matplotlib.pyplot as plt\n",
    "from tensorflow.keras.models import Sequential\n",
    "from tensorflow.keras.layers import LSTM, Dense\n",
    "from tensorflow.keras.callbacks import EarlyStopping\n",
    "from tensorflow.keras.optimizers import Adam\n",
    "from tensorflow.keras.losses import MeanSquaredError"
   ]
  },
  {
   "cell_type": "code",
   "execution_count": 3,
   "id": "f89eb676",
   "metadata": {},
   "outputs": [
    {
     "name": "stdout",
     "output_type": "stream",
     "text": [
      "<class 'pandas.core.frame.DataFrame'>\n",
      "Index: 424 entries, 1990-01-01 to 2025-04-01\n",
      "Data columns (total 1 columns):\n",
      " #   Column  Non-Null Count  Dtype  \n",
      "---  ------  --------------  -----  \n",
      " 0   rate    424 non-null    float64\n",
      "dtypes: float64(1)\n",
      "memory usage: 6.6+ KB\n"
     ]
    }
   ],
   "source": [
    "\"\"\"Load data and make it easier to work with \"\"\"\n",
    "san_diego = pd.read_csv(\"../Data/SANDIEGO.csv\")\n",
    "san_diego.rename(columns={\"SAND706URN\": \"rate\"}, inplace=True)\n",
    "san_diego.rename(columns={\"observation_date\": \"date\"}, inplace=True)\n",
    "san_diego.set_index(\"date\", inplace=True)\n",
    "san_diego.info()"
   ]
  },
  {
   "cell_type": "code",
   "execution_count": 4,
   "id": "3a5c9ba8",
   "metadata": {},
   "outputs": [
    {
     "data": {
      "text/html": [
       "<div>\n",
       "<style scoped>\n",
       "    .dataframe tbody tr th:only-of-type {\n",
       "        vertical-align: middle;\n",
       "    }\n",
       "\n",
       "    .dataframe tbody tr th {\n",
       "        vertical-align: top;\n",
       "    }\n",
       "\n",
       "    .dataframe thead th {\n",
       "        text-align: right;\n",
       "    }\n",
       "</style>\n",
       "<table border=\"1\" class=\"dataframe\">\n",
       "  <thead>\n",
       "    <tr style=\"text-align: right;\">\n",
       "      <th></th>\n",
       "      <th>rate</th>\n",
       "      <th>change</th>\n",
       "    </tr>\n",
       "    <tr>\n",
       "      <th>date</th>\n",
       "      <th></th>\n",
       "      <th></th>\n",
       "    </tr>\n",
       "  </thead>\n",
       "  <tbody>\n",
       "    <tr>\n",
       "      <th>1990-02-01</th>\n",
       "      <td>3.8</td>\n",
       "      <td>-0.2</td>\n",
       "    </tr>\n",
       "    <tr>\n",
       "      <th>1990-03-01</th>\n",
       "      <td>3.7</td>\n",
       "      <td>-0.1</td>\n",
       "    </tr>\n",
       "    <tr>\n",
       "      <th>1990-04-01</th>\n",
       "      <td>3.9</td>\n",
       "      <td>0.2</td>\n",
       "    </tr>\n",
       "    <tr>\n",
       "      <th>1990-05-01</th>\n",
       "      <td>4.1</td>\n",
       "      <td>0.2</td>\n",
       "    </tr>\n",
       "    <tr>\n",
       "      <th>1990-06-01</th>\n",
       "      <td>4.5</td>\n",
       "      <td>0.4</td>\n",
       "    </tr>\n",
       "  </tbody>\n",
       "</table>\n",
       "</div>"
      ],
      "text/plain": [
       "            rate  change\n",
       "date                    \n",
       "1990-02-01   3.8    -0.2\n",
       "1990-03-01   3.7    -0.1\n",
       "1990-04-01   3.9     0.2\n",
       "1990-05-01   4.1     0.2\n",
       "1990-06-01   4.5     0.4"
      ]
     },
     "execution_count": 4,
     "metadata": {},
     "output_type": "execute_result"
    }
   ],
   "source": [
    "\"\"\"Calculate rolling change from month to month, drop first entry for lack of prior knowledge\"\"\"\n",
    "san_diego[\"change\"] = san_diego[\"rate\"].diff()\n",
    "san_diego.dropna(inplace=True)\n",
    "san_diego.head()"
   ]
  },
  {
   "cell_type": "code",
   "execution_count": 18,
   "id": "dc67004a",
   "metadata": {},
   "outputs": [],
   "source": [
    "\"\"\"Divide the data between training and testing data - All but most recent year as training, most recent year as test\"\"\"\n",
    "san_diego_train = san_diego[san_diego.index < \"2024-05-01\"]\n",
    "san_diego_test = san_diego[san_diego.index >= \"2024-05-01\"]\n",
    "\n",
    "assert len(san_diego_train) + len(san_diego_test) == len(san_diego)\n",
    "san_diego_train.tail()\n",
    "\n",
    "# Dived traing/test data into features and targets\n",
    "train_features = san_diego_train[\"rate\"].values.reshape(-1, 1)\n",
    "train_labels = san_diego_train[\"change\"].values.reshape(-1, 1)\n",
    "test_features = san_diego_test[\"rate\"].values.reshape(-1, 1)\n",
    "test_labels = san_diego_test[\"change\"].values.reshape(-1, 1)\n"
   ]
  },
  {
   "cell_type": "code",
   "execution_count": 19,
   "id": "2ffcf269",
   "metadata": {},
   "outputs": [
    {
     "name": "stdout",
     "output_type": "stream",
     "text": [
      "Epoch 1/100\n",
      "\u001b[1m13/13\u001b[0m \u001b[32m━━━━━━━━━━━━━━━━━━━━\u001b[0m\u001b[37m\u001b[0m \u001b[1m1s\u001b[0m 16ms/step - loss: 1.1194 - val_loss: 0.1156\n",
      "Epoch 2/100\n",
      "\u001b[1m13/13\u001b[0m \u001b[32m━━━━━━━━━━━━━━━━━━━━\u001b[0m\u001b[37m\u001b[0m \u001b[1m0s\u001b[0m 4ms/step - loss: 0.4142 - val_loss: 0.1151\n",
      "Epoch 3/100\n",
      "\u001b[1m13/13\u001b[0m \u001b[32m━━━━━━━━━━━━━━━━━━━━\u001b[0m\u001b[37m\u001b[0m \u001b[1m0s\u001b[0m 4ms/step - loss: 0.6524 - val_loss: 0.1149\n",
      "Epoch 4/100\n",
      "\u001b[1m13/13\u001b[0m \u001b[32m━━━━━━━━━━━━━━━━━━━━\u001b[0m\u001b[37m\u001b[0m \u001b[1m0s\u001b[0m 4ms/step - loss: 0.5479 - val_loss: 0.1152\n",
      "Epoch 5/100\n",
      "\u001b[1m13/13\u001b[0m \u001b[32m━━━━━━━━━━━━━━━━━━━━\u001b[0m\u001b[37m\u001b[0m \u001b[1m0s\u001b[0m 4ms/step - loss: 0.3848 - val_loss: 0.1147\n",
      "Epoch 6/100\n",
      "\u001b[1m13/13\u001b[0m \u001b[32m━━━━━━━━━━━━━━━━━━━━\u001b[0m\u001b[37m\u001b[0m \u001b[1m0s\u001b[0m 4ms/step - loss: 0.4120 - val_loss: 0.1147\n",
      "Epoch 7/100\n",
      "\u001b[1m13/13\u001b[0m \u001b[32m━━━━━━━━━━━━━━━━━━━━\u001b[0m\u001b[37m\u001b[0m \u001b[1m0s\u001b[0m 4ms/step - loss: 0.3345 - val_loss: 0.1145\n",
      "Epoch 8/100\n",
      "\u001b[1m13/13\u001b[0m \u001b[32m━━━━━━━━━━━━━━━━━━━━\u001b[0m\u001b[37m\u001b[0m \u001b[1m0s\u001b[0m 4ms/step - loss: 0.6319 - val_loss: 0.1138\n",
      "Epoch 9/100\n",
      "\u001b[1m13/13\u001b[0m \u001b[32m━━━━━━━━━━━━━━━━━━━━\u001b[0m\u001b[37m\u001b[0m \u001b[1m0s\u001b[0m 4ms/step - loss: 0.4609 - val_loss: 0.1164\n",
      "Epoch 10/100\n",
      "\u001b[1m13/13\u001b[0m \u001b[32m━━━━━━━━━━━━━━━━━━━━\u001b[0m\u001b[37m\u001b[0m \u001b[1m0s\u001b[0m 4ms/step - loss: 0.7427 - val_loss: 0.1164\n",
      "Epoch 11/100\n",
      "\u001b[1m13/13\u001b[0m \u001b[32m━━━━━━━━━━━━━━━━━━━━\u001b[0m\u001b[37m\u001b[0m \u001b[1m0s\u001b[0m 4ms/step - loss: 0.1928 - val_loss: 0.1163\n",
      "Epoch 12/100\n",
      "\u001b[1m13/13\u001b[0m \u001b[32m━━━━━━━━━━━━━━━━━━━━\u001b[0m\u001b[37m\u001b[0m \u001b[1m0s\u001b[0m 4ms/step - loss: 0.2690 - val_loss: 0.1154\n",
      "Epoch 13/100\n",
      "\u001b[1m13/13\u001b[0m \u001b[32m━━━━━━━━━━━━━━━━━━━━\u001b[0m\u001b[37m\u001b[0m \u001b[1m0s\u001b[0m 4ms/step - loss: 0.5441 - val_loss: 0.1153\n",
      "\u001b[1m1/1\u001b[0m \u001b[32m━━━━━━━━━━━━━━━━━━━━\u001b[0m\u001b[37m\u001b[0m \u001b[1m0s\u001b[0m 96ms/step\n"
     ]
    }
   ],
   "source": [
    "\"\"\"Define tensorflow sequential model, train and predict using train and test data\"\"\"\n",
    "model = Sequential()\n",
    "model.add(LSTM(50, input_shape=(1, 1)))\n",
    "model.add(Dense(1))\n",
    "model.compile(optimizer=Adam(learning_rate=0.001), loss=MeanSquaredError())\n",
    "\n",
    "# Train the model\n",
    "model.fit(train_features, train_labels, epochs=100, validation_data=(test_features, test_labels), callbacks=[EarlyStopping(monitor=\"val_loss\", patience=5)])\n",
    "\n",
    "# Make predictions on the test data\n",
    "predictions = model.predict(test_features)"
   ]
  },
  {
   "cell_type": "code",
   "execution_count": 20,
   "id": "73d609aa",
   "metadata": {},
   "outputs": [
    {
     "data": {
      "image/png": "[encoded data removed]",
      "text/plain": [
       "<Figure size 640x480 with 1 Axes>"
      ]
     },
     "metadata": {},
     "output_type": "display_data"
    }
   ],
   "source": [
    "\"\"\"Plot actual data and predicted values\"\"\"\n",
    "plt.title(\"Deep AR forecasting\")\n",
    "plt.ylabel(\"Change\")\n",
    "plt.xlabel(\"Rate\")\n",
    "plt.plot(test_labels, label=\"Actual\")\n",
    "plt.plot(predictions, label=\"Predicted\")\n",
    "plt.legend()\n",
    "plt.show()"
   ]
  }
 ],
 "metadata": {
  "kernelspec": {
   "display_name": "Python 3",
   "language": "python",
   "name": "python3"
  },
  "language_info": {
   "codemirror_mode": {
    "name": "ipython",
    "version": 3
   },
   "file_extension": ".py",
   "mimetype": "text/x-python",
   "name": "python",
   "nbconvert_exporter": "python",
   "pygments_lexer": "ipython3",
   "version": "3.10.12"
  }
 },
 "nbformat": 4,
 "nbformat_minor": 5
}
